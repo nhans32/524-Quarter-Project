{
 "cells": [
  {
   "cell_type": "code",
   "execution_count": 1,
   "metadata": {},
   "outputs": [],
   "source": [
    "\"\"\"\n",
    "Shows SpamAssassin Python Wrapper at work.\n",
    "\n",
    "https://pypi.org/project/spamassassin-client/\n",
    "\n",
    "\n",
    "- SETUP: -\n",
    "1) Have spamasassin installed\n",
    "    > sudo apt get spamassassin\n",
    "2) > pip install spamassassin_client\n",
    "3) Start spamassassin server\n",
    "    > sudo spamd\n",
    "4) Use spamassassin_client\n",
    "\n",
    "- NOTE: -\n",
    "REMEMBER TO SHUT DOWN SPAMD SERVER WHEN DONE\n",
    "\n",
    "\"\"\"\n",
    "import os\n",
    "from spamassassin_client import SpamAssassin\n",
    "import pandas as pd\n",
    "import numpy as np\n",
    "import util\n",
    "import re\n",
    "\n",
    "%load_ext autoreload\n",
    "%autoreload 2"
   ]
  },
  {
   "cell_type": "markdown",
   "metadata": {},
   "source": [
    "### Forming any text into valid email including headers and signatures\n",
    "This is so we can ignore pesky SpamAssassin header and signature rules"
   ]
  },
  {
   "cell_type": "code",
   "execution_count": 2,
   "metadata": {},
   "outputs": [
    {
     "name": "stdout",
     "output_type": "stream",
     "text": [
      "2605\n",
      "2605 10000\n",
      "(2605, 4)\n",
      "(2605, 3)\n"
     ]
    }
   ],
   "source": [
    "lingData = pd.read_csv('data/csvs/lingSpam.csv')\n",
    "enronData = pd.read_csv('data/csvs/enronSpam.csv')\n",
    "\n",
    "minRows = min(lingData.shape[0], enronData.shape[0])\n",
    "print(minRows)\n",
    "print(lingData.shape[0], enronData.shape[0])\n",
    "\n",
    "# shrink datasets \n",
    "enronData = enronData[:minRows]\n",
    "print(enronData.shape)\n",
    "lingData = lingData[:minRows]\n",
    "print(lingData.shape)"
   ]
  },
  {
   "cell_type": "code",
   "execution_count": 3,
   "metadata": {},
   "outputs": [
    {
     "data": {
      "text/html": [
       "<div>\n",
       "<style scoped>\n",
       "    .dataframe tbody tr th:only-of-type {\n",
       "        vertical-align: middle;\n",
       "    }\n",
       "\n",
       "    .dataframe tbody tr th {\n",
       "        vertical-align: top;\n",
       "    }\n",
       "\n",
       "    .dataframe thead th {\n",
       "        text-align: right;\n",
       "    }\n",
       "</style>\n",
       "<table border=\"1\" class=\"dataframe\">\n",
       "  <thead>\n",
       "    <tr style=\"text-align: right;\">\n",
       "      <th></th>\n",
       "      <th>body</th>\n",
       "      <th>label</th>\n",
       "    </tr>\n",
       "  </thead>\n",
       "  <tbody>\n",
       "    <tr>\n",
       "      <th>0</th>\n",
       "      <td>Subject: get up to $ 353 , 327\\n are you ready...</td>\n",
       "      <td>1</td>\n",
       "    </tr>\n",
       "    <tr>\n",
       "      <th>1</th>\n",
       "      <td>Subject: canadian english\\n \\n hello , i would...</td>\n",
       "      <td>0</td>\n",
       "    </tr>\n",
       "    <tr>\n",
       "      <th>2</th>\n",
       "      <td>Subject: avail for review : syntax , chomsky\\n...</td>\n",
       "      <td>0</td>\n",
       "    </tr>\n",
       "    <tr>\n",
       "      <th>3</th>\n",
       "      <td>Subject: \\n html\\n body\\n pfont face = arialbu...</td>\n",
       "      <td>1</td>\n",
       "    </tr>\n",
       "    <tr>\n",
       "      <th>4</th>\n",
       "      <td>Subject: fortune award winning final notificat...</td>\n",
       "      <td>1</td>\n",
       "    </tr>\n",
       "    <tr>\n",
       "      <th>...</th>\n",
       "      <td>...</td>\n",
       "      <td>...</td>\n",
       "    </tr>\n",
       "    <tr>\n",
       "      <th>5205</th>\n",
       "      <td>Subject: q : \" english only \"\\n \\n content - l...</td>\n",
       "      <td>0</td>\n",
       "    </tr>\n",
       "    <tr>\n",
       "      <th>5206</th>\n",
       "      <td>Subject: sociolinguistics symposium\\n \\n remin...</td>\n",
       "      <td>0</td>\n",
       "    </tr>\n",
       "    <tr>\n",
       "      <th>5207</th>\n",
       "      <td>Subject: here is how to send your own bulk ema...</td>\n",
       "      <td>1</td>\n",
       "    </tr>\n",
       "    <tr>\n",
       "      <th>5208</th>\n",
       "      <td>Subject: language resources &amp; evaluation works...</td>\n",
       "      <td>0</td>\n",
       "    </tr>\n",
       "    <tr>\n",
       "      <th>5209</th>\n",
       "      <td>Subject: get gold - bait - excelled @ em . cas...</td>\n",
       "      <td>1</td>\n",
       "    </tr>\n",
       "  </tbody>\n",
       "</table>\n",
       "<p>5210 rows × 2 columns</p>\n",
       "</div>"
      ],
      "text/plain": [
       "                                                   body  label\n",
       "0     Subject: get up to $ 353 , 327\\n are you ready...      1\n",
       "1     Subject: canadian english\\n \\n hello , i would...      0\n",
       "2     Subject: avail for review : syntax , chomsky\\n...      0\n",
       "3     Subject: \\n html\\n body\\n pfont face = arialbu...      1\n",
       "4     Subject: fortune award winning final notificat...      1\n",
       "...                                                 ...    ...\n",
       "5205  Subject: q : \" english only \"\\n \\n content - l...      0\n",
       "5206  Subject: sociolinguistics symposium\\n \\n remin...      0\n",
       "5207  Subject: here is how to send your own bulk ema...      1\n",
       "5208  Subject: language resources & evaluation works...      0\n",
       "5209  Subject: get gold - bait - excelled @ em . cas...      1\n",
       "\n",
       "[5210 rows x 2 columns]"
      ]
     },
     "execution_count": 3,
     "metadata": {},
     "output_type": "execute_result"
    }
   ],
   "source": [
    "# combine datasets\n",
    "combinedData = pd.concat([lingData, enronData]).loc[:, ['Body', 'Label']].reset_index(drop=True)\n",
    "# rename columns \n",
    "combinedData = combinedData.rename(columns={'Body': 'body', 'Label': 'label'}).sample(frac=1).reset_index(drop=True)\n",
    "combinedData\n"
   ]
  },
  {
   "cell_type": "code",
   "execution_count": 4,
   "metadata": {},
   "outputs": [
    {
     "name": "stdout",
     "output_type": "stream",
     "text": [
      "(1000, 2) (1000, 2)\n"
     ]
    },
    {
     "data": {
      "text/plain": [
       "(2000, 2)"
      ]
     },
     "execution_count": 4,
     "metadata": {},
     "output_type": "execute_result"
    }
   ],
   "source": [
    "# get equal number of spam and ham\n",
    "classSize = 1000\n",
    "spam = combinedData[combinedData.label == 1][:classSize]\n",
    "ham = combinedData[combinedData.label == 0][:classSize]\n",
    "print(spam.shape, ham.shape)\n",
    "combinedData = pd.concat([spam, ham]).sample(frac=1).reset_index(drop=True)\n",
    "combinedData.shape"
   ]
  },
  {
   "cell_type": "code",
   "execution_count": 5,
   "metadata": {},
   "outputs": [
    {
     "data": {
      "text/plain": [
       "(0       Subject: strengthen your marriage or relations...\n",
       " 1       Subject: re :\\n for\\n immediate release\\n cal ...\n",
       " 2       Subject: 3 . 405 languages , citation\\n \\n let...\n",
       " 3       Subject: language and legislation conference\\n...\n",
       " 4         Subject: women , something to rock your world\\n\n",
       "                               ...                        \n",
       " 1995    Subject: re : 6 . 959 , disc : he / she\\n \\n m...\n",
       " 1996    Subject: defend yourself against criminals\\n \\...\n",
       " 1997    Subject: limited time reservation .\\n \\n the m...\n",
       " 1998    Subject: the reason to shop online\\n the inter...\n",
       " 1999    Subject: here ' s a hot piay in motion\\n \" sto...\n",
       " Name: body, Length: 2000, dtype: object,\n",
       " 0       1\n",
       " 1       1\n",
       " 2       0\n",
       " 3       0\n",
       " 4       1\n",
       "        ..\n",
       " 1995    0\n",
       " 1996    1\n",
       " 1997    1\n",
       " 1998    1\n",
       " 1999    1\n",
       " Name: label, Length: 2000, dtype: int64)"
      ]
     },
     "execution_count": 5,
     "metadata": {},
     "output_type": "execute_result"
    }
   ],
   "source": [
    "msgs = combinedData.loc[:, 'body']\n",
    "labels = combinedData.loc[:, 'label']\n",
    "msgs, labels"
   ]
  },
  {
   "cell_type": "code",
   "execution_count": 6,
   "metadata": {},
   "outputs": [],
   "source": [
    "# extract subject from body\n",
    "def extractSubjectBody(text):\n",
    "    spl = text.split('\\n')\n",
    "    line1 = spl[0]\n",
    "    subjmatch = re.match('^subject:(.*)', line1, re.IGNORECASE)\n",
    "    if subjmatch:\n",
    "        subject = subjmatch.group(1).strip()\n",
    "        body = '\\n'.join(spl[1:]).strip()\n",
    "        return subject, body\n",
    "    return None, text.strip()"
   ]
  },
  {
   "cell_type": "code",
   "execution_count": 7,
   "metadata": {},
   "outputs": [],
   "source": [
    "CLEAN_HEADER = \"\"\"Subject: {subject}\n",
    "Message-ID: <GTUBE1.1010101@example.net>\n",
    "Date: Wed, 23 Jul 2003 23:30:00 +0200\n",
    "From: Sender <sender@example.net>\n",
    "To: Recipient <recipient@example.net>\n",
    "MIME-Version: 1.0\n",
    "Content-Type: text/plain; charset=us-ascii\n",
    "Content-Transfer-Encoding: 7bit\"\"\"\n",
    "\n",
    "def add_clean_header(text):\n",
    "    subj, body = extractSubjectBody(text)\n",
    "    if subj is None:\n",
    "        head = CLEAN_HEADER.format(subject=\"Placeholder Subject\")\n",
    "    else:\n",
    "        head = CLEAN_HEADER.format(subject=subj)\n",
    "    return head + '\\n\\n' + body"
   ]
  },
  {
   "cell_type": "code",
   "execution_count": 8,
   "metadata": {},
   "outputs": [],
   "source": [
    "# we could just take emails we classify correctly here and use them to run our experiments\n",
    "\n",
    "def run_spam_assassin(msgs, labels):\n",
    "    predictions = []\n",
    "    actual = []\n",
    "    for m, l in zip(msgs, labels):\n",
    "        m = add_clean_header(m)\n",
    "        sa = SpamAssassin(bytes(m, 'utf-8'))\n",
    "        if sa.is_spam():\n",
    "            pred = 1\n",
    "        else:\n",
    "            pred = 0\n",
    "        predictions.append(pred)\n",
    "        actual.append(l)\n",
    "    return predictions, actual\n",
    "\n",
    "predictions, actual = run_spam_assassin(msgs, labels)"
   ]
  },
  {
   "cell_type": "code",
   "execution_count": 9,
   "metadata": {},
   "outputs": [
    {
     "name": "stdout",
     "output_type": "stream",
     "text": [
      "              precision    recall  f1-score   support\n",
      "\n",
      "           0       0.52      1.00      0.68      1000\n",
      "           1       0.97      0.07      0.13      1000\n",
      "\n",
      "    accuracy                           0.53      2000\n",
      "   macro avg       0.74      0.53      0.41      2000\n",
      "weighted avg       0.74      0.53      0.41      2000\n",
      "\n"
     ]
    }
   ],
   "source": [
    "from sklearn import metrics\n",
    "print(metrics.classification_report(actual, predictions))"
   ]
  }
 ],
 "metadata": {
  "kernelspec": {
   "display_name": "base",
   "language": "python",
   "name": "python3"
  },
  "language_info": {
   "codemirror_mode": {
    "name": "ipython",
    "version": 3
   },
   "file_extension": ".py",
   "mimetype": "text/x-python",
   "name": "python",
   "nbconvert_exporter": "python",
   "pygments_lexer": "ipython3",
   "version": "3.10.8"
  }
 },
 "nbformat": 4,
 "nbformat_minor": 2
}
