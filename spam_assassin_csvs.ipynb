{
 "cells": [
  {
   "cell_type": "code",
   "execution_count": 335,
   "metadata": {},
   "outputs": [
    {
     "name": "stdout",
     "output_type": "stream",
     "text": [
      "The autoreload extension is already loaded. To reload it, use:\n",
      "  %reload_ext autoreload\n"
     ]
    }
   ],
   "source": [
    "\"\"\"\n",
    "Shows SpamAssassin Python Wrapper at work.\n",
    "\n",
    "https://pypi.org/project/spamassassin-client/\n",
    "\n",
    "\n",
    "- SETUP: -\n",
    "1) Have spamasassin installed\n",
    "    > sudo apt get spamassassin\n",
    "2) > pip install spamassassin_client\n",
    "3) Start spamassassin server\n",
    "    > sudo spamd\n",
    "4) Use spamassassin_client\n",
    "\n",
    "- NOTE: -\n",
    "REMEMBER TO SHUT DOWN SPAMD SERVER WHEN DONE\n",
    "\n",
    "\"\"\"\n",
    "import os\n",
    "from spamassassin_client import SpamAssassin\n",
    "import pandas as pd\n",
    "import numpy as np\n",
    "import util\n",
    "import re\n",
    "\n",
    "%load_ext autoreload\n",
    "%autoreload 2"
   ]
  },
  {
   "cell_type": "markdown",
   "metadata": {},
   "source": [
    "### Forming any text into valid email including headers and signatures\n",
    "This is so we can ignore pesky SpamAssassin header and signature rules"
   ]
  },
  {
   "cell_type": "code",
   "execution_count": 336,
   "metadata": {},
   "outputs": [
    {
     "name": "stdout",
     "output_type": "stream",
     "text": [
      "2605\n",
      "2605 10000\n",
      "(2605, 4)\n",
      "(2605, 3)\n"
     ]
    }
   ],
   "source": [
    "lingData = pd.read_csv('data/csvs/lingSpam.csv')\n",
    "enronData = pd.read_csv('data/csvs/enronSpam.csv')\n",
    "\n",
    "minRows = min(lingData.shape[0], enronData.shape[0])\n",
    "print(minRows)\n",
    "print(lingData.shape[0], enronData.shape[0])\n",
    "\n",
    "# shrink datasets \n",
    "enronData = enronData[:minRows]\n",
    "print(enronData.shape)\n",
    "lingData = lingData[:minRows]\n",
    "print(lingData.shape)"
   ]
  },
  {
   "cell_type": "code",
   "execution_count": 337,
   "metadata": {},
   "outputs": [
    {
     "data": {
      "text/html": [
       "<div>\n",
       "<style scoped>\n",
       "    .dataframe tbody tr th:only-of-type {\n",
       "        vertical-align: middle;\n",
       "    }\n",
       "\n",
       "    .dataframe tbody tr th {\n",
       "        vertical-align: top;\n",
       "    }\n",
       "\n",
       "    .dataframe thead th {\n",
       "        text-align: right;\n",
       "    }\n",
       "</style>\n",
       "<table border=\"1\" class=\"dataframe\">\n",
       "  <thead>\n",
       "    <tr style=\"text-align: right;\">\n",
       "      <th></th>\n",
       "      <th>body</th>\n",
       "      <th>label</th>\n",
       "    </tr>\n",
       "  </thead>\n",
       "  <tbody>\n",
       "    <tr>\n",
       "      <th>0</th>\n",
       "      <td>Subject: the fastest way to get a loan\\n we ca...</td>\n",
       "      <td>1</td>\n",
       "    </tr>\n",
       "    <tr>\n",
       "      <th>1</th>\n",
       "      <td>Subject: back to happy and healthy life . . .\\...</td>\n",
       "      <td>1</td>\n",
       "    </tr>\n",
       "    <tr>\n",
       "      <th>2</th>\n",
       "      <td>Subject: you would , would you ?\\n computer ho...</td>\n",
       "      <td>1</td>\n",
       "    </tr>\n",
       "    <tr>\n",
       "      <th>3</th>\n",
       "      <td>Subject: free live sex ! ! !\\n \\n * * * * * * ...</td>\n",
       "      <td>1</td>\n",
       "    </tr>\n",
       "    <tr>\n",
       "      <th>4</th>\n",
       "      <td>Subject: toshiba refurbished notebooks exports...</td>\n",
       "      <td>1</td>\n",
       "    </tr>\n",
       "    <tr>\n",
       "      <th>...</th>\n",
       "      <td>...</td>\n",
       "      <td>...</td>\n",
       "    </tr>\n",
       "    <tr>\n",
       "      <th>5205</th>\n",
       "      <td>Subject: secrets of the noveau rich\\n \\n you h...</td>\n",
       "      <td>1</td>\n",
       "    </tr>\n",
       "    <tr>\n",
       "      <th>5206</th>\n",
       "      <td>Subject: generic pharmacy 8\\n dear reader ,\\n ...</td>\n",
       "      <td>1</td>\n",
       "    </tr>\n",
       "    <tr>\n",
       "      <th>5207</th>\n",
       "      <td>Subject: keep your home safe\\n u . s . homeown...</td>\n",
       "      <td>1</td>\n",
       "    </tr>\n",
       "    <tr>\n",
       "      <th>5208</th>\n",
       "      <td>Subject: perfect logo charset = koi 8 - r \" &gt;\\...</td>\n",
       "      <td>1</td>\n",
       "    </tr>\n",
       "    <tr>\n",
       "      <th>5209</th>\n",
       "      <td>Subject: response to the linguist list query ....</td>\n",
       "      <td>0</td>\n",
       "    </tr>\n",
       "  </tbody>\n",
       "</table>\n",
       "<p>5210 rows × 2 columns</p>\n",
       "</div>"
      ],
      "text/plain": [
       "                                                   body  label\n",
       "0     Subject: the fastest way to get a loan\\n we ca...      1\n",
       "1     Subject: back to happy and healthy life . . .\\...      1\n",
       "2     Subject: you would , would you ?\\n computer ho...      1\n",
       "3     Subject: free live sex ! ! !\\n \\n * * * * * * ...      1\n",
       "4     Subject: toshiba refurbished notebooks exports...      1\n",
       "...                                                 ...    ...\n",
       "5205  Subject: secrets of the noveau rich\\n \\n you h...      1\n",
       "5206  Subject: generic pharmacy 8\\n dear reader ,\\n ...      1\n",
       "5207  Subject: keep your home safe\\n u . s . homeown...      1\n",
       "5208  Subject: perfect logo charset = koi 8 - r \" >\\...      1\n",
       "5209  Subject: response to the linguist list query ....      0\n",
       "\n",
       "[5210 rows x 2 columns]"
      ]
     },
     "execution_count": 337,
     "metadata": {},
     "output_type": "execute_result"
    }
   ],
   "source": [
    "# combine datasets\n",
    "combinedData = pd.concat([lingData, enronData]).loc[:, ['Body', 'Label']].reset_index(drop=True)\n",
    "# rename columns \n",
    "combinedData = combinedData.rename(columns={'Body': 'body', 'Label': 'label'}).sample(frac=1).reset_index(drop=True)\n",
    "combinedData\n"
   ]
  },
  {
   "cell_type": "code",
   "execution_count": 338,
   "metadata": {},
   "outputs": [
    {
     "name": "stdout",
     "output_type": "stream",
     "text": [
      "(1000, 2) (1000, 2)\n"
     ]
    },
    {
     "data": {
      "text/plain": [
       "(2000, 2)"
      ]
     },
     "execution_count": 338,
     "metadata": {},
     "output_type": "execute_result"
    }
   ],
   "source": [
    "# get equal number of spam and ham\n",
    "classSize = 1000\n",
    "spam = combinedData[combinedData.label == 1][:classSize]\n",
    "ham = combinedData[combinedData.label == 0][:classSize]\n",
    "print(spam.shape, ham.shape)\n",
    "combinedData = pd.concat([spam, ham]).sample(frac=1).reset_index(drop=True)\n",
    "combinedData.shape"
   ]
  },
  {
   "cell_type": "code",
   "execution_count": 339,
   "metadata": {},
   "outputs": [
    {
     "data": {
      "text/plain": [
       "(0       Subject: re : here is our opportunity\\n nostal...\n",
       " 1       Subject: book review ( cheng ) : on the typolo...\n",
       " 2       Subject: sle 98 st . andrews\\n \\n invitation t...\n",
       " 3       Subject: favour\\n attn . : russian investment ...\n",
       " 4       Subject: causal connectives have presuppositio...\n",
       "                               ...                        \n",
       " 1995    Subject: [ n + v ] verbal compounding\\n \\n con...\n",
       " 1996    Subject: the bible is a proven hoax\\n click he...\n",
       " 1997    Subject: homophones in english dialects\\n \\n i...\n",
       " 1998    Subject: don ' t get ripped off ! things to wa...\n",
       " 1999    Subject: leading in affordable healthcare . . ...\n",
       " Name: body, Length: 2000, dtype: object,\n",
       " 0       1\n",
       " 1       0\n",
       " 2       0\n",
       " 3       1\n",
       " 4       0\n",
       "        ..\n",
       " 1995    0\n",
       " 1996    1\n",
       " 1997    0\n",
       " 1998    1\n",
       " 1999    1\n",
       " Name: label, Length: 2000, dtype: int64)"
      ]
     },
     "execution_count": 339,
     "metadata": {},
     "output_type": "execute_result"
    }
   ],
   "source": [
    "msgs = combinedData.loc[:, 'body']\n",
    "labels = combinedData.loc[:, 'label']\n",
    "msgs, labels"
   ]
  },
  {
   "cell_type": "code",
   "execution_count": 340,
   "metadata": {},
   "outputs": [],
   "source": [
    "# extract subject from body\n",
    "def extractSubjectBody(text):\n",
    "    spl = text.split('\\n')\n",
    "    line1 = spl[0]\n",
    "    subjmatch = re.match('^subject:(.*)', line1, re.IGNORECASE)\n",
    "    if subjmatch:\n",
    "        subject = subjmatch.group(1).strip()\n",
    "        body = '\\n'.join(spl[1:]).strip()\n",
    "        return subject, body\n",
    "    else:\n",
    "        return None, text.strip()\n",
    "    return None"
   ]
  },
  {
   "cell_type": "code",
   "execution_count": 341,
   "metadata": {},
   "outputs": [],
   "source": [
    "CLEAN_HEADER = \"\"\"Subject: {subject}\n",
    "Message-ID: <GTUBE1.1010101@example.net>\n",
    "Date: Wed, 23 Jul 2003 23:30:00 +0200\n",
    "From: Sender <sender@example.net>\n",
    "To: Recipient <recipient@example.net>\n",
    "MIME-Version: 1.0\n",
    "Content-Type: text/plain; charset=us-ascii\n",
    "Content-Transfer-Encoding: 7bit\"\"\"\n",
    "\n",
    "def add_clean_header(text):\n",
    "    subj, body = extractSubjectBody(text)\n",
    "    if subj is None:\n",
    "        head = CLEAN_HEADER.format(subject=\"Placeholder Subject\")\n",
    "    else:\n",
    "        head = CLEAN_HEADER.format(subject=subj)\n",
    "    return head + '\\n\\n' + body"
   ]
  },
  {
   "cell_type": "code",
   "execution_count": 349,
   "metadata": {},
   "outputs": [],
   "source": [
    "# we could just take emails we classify correctly here and use them to run our experiments\n",
    "from sklearn import metrics\n",
    "\n",
    "def run_spam_assassin(msgs, labels, lvl=3):\n",
    "    predictions = []\n",
    "    actual = []\n",
    "    for m, l in zip(msgs, labels):\n",
    "        m = add_clean_header(m)\n",
    "        sa = SpamAssassin(bytes(m, 'utf-8'))\n",
    "        if sa.is_spam(level=lvl):\n",
    "            pred = 1\n",
    "        else:\n",
    "            pred = 0\n",
    "        predictions.append(pred)\n",
    "        actual.append(l)\n",
    "    return predictions, actual"
   ]
  }
 ],
 "metadata": {
  "kernelspec": {
   "display_name": "base",
   "language": "python",
   "name": "python3"
  },
  "language_info": {
   "codemirror_mode": {
    "name": "ipython",
    "version": 3
   },
   "file_extension": ".py",
   "mimetype": "text/x-python",
   "name": "python",
   "nbconvert_exporter": "python",
   "pygments_lexer": "ipython3",
   "version": "3.10.8"
  }
 },
 "nbformat": 4,
 "nbformat_minor": 2
}
