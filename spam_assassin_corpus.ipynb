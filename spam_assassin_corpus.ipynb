{
 "cells": [
  {
   "cell_type": "code",
   "execution_count": 56,
   "metadata": {},
   "outputs": [
    {
     "name": "stdout",
     "output_type": "stream",
     "text": [
      "The autoreload extension is already loaded. To reload it, use:\n",
      "  %reload_ext autoreload\n"
     ]
    }
   ],
   "source": [
    "\"\"\"\n",
    "Shows SpamAssassin Python Wrapper at work.\n",
    "\n",
    "https://pypi.org/project/spamassassin-client/\n",
    "\n",
    "\n",
    "- SETUP: -\n",
    "1) Have spamasassin installed\n",
    "    > sudo apt get spamassassin\n",
    "2) > pip install spamassassin_client\n",
    "3) Start spamassassin server\n",
    "    > sudo spamd\n",
    "4) Use spamassassin_client\n",
    "\n",
    "- NOTE: -\n",
    "REMEMBER TO SHUT DOWN SPAMD SERVER WHEN DONE\n",
    "\n",
    "\"\"\"\n",
    "import os\n",
    "from spamassassin_client import SpamAssassin\n",
    "import pandas as pd\n",
    "import numpy as np\n",
    "import util\n",
    "import re\n",
    "import os\n",
    "\n",
    "%load_ext autoreload\n",
    "%autoreload 2"
   ]
  },
  {
   "cell_type": "code",
   "execution_count": 57,
   "metadata": {},
   "outputs": [],
   "source": [
    "# only get plain text emails from corpus\n",
    "corpus_spam_path = \"data/spam_assassin_corpus/spam_2\"\n",
    "corpus_ham_path = \"data/spam_assassin_corpus/easy_ham\""
   ]
  },
  {
   "cell_type": "code",
   "execution_count": 58,
   "metadata": {},
   "outputs": [],
   "source": [
    "def is_plaintext(email):\n",
    "    header = email.split(\"\\n\\n\", 1)[0].strip()\n",
    "    if \"content-type: text/plain\" in header.lower():\n",
    "        return True\n",
    "    return False"
   ]
  },
  {
   "cell_type": "code",
   "execution_count": 59,
   "metadata": {},
   "outputs": [
    {
     "data": {
      "text/plain": [
       "347"
      ]
     },
     "execution_count": 59,
     "metadata": {},
     "output_type": "execute_result"
    }
   ],
   "source": [
    "# iterate over files in spam folder\n",
    "plaintext_spam = []\n",
    "for filename in os.listdir(corpus_spam_path):\n",
    "    with open(os.path.join(corpus_spam_path, filename), \"r\") as f:\n",
    "        try:\n",
    "            email = f.read()\n",
    "            if is_plaintext(email):\n",
    "                plaintext_spam.append((filename, email))\n",
    "        except:\n",
    "            continue\n",
    "len(plaintext_spam)"
   ]
  },
  {
   "cell_type": "code",
   "execution_count": 60,
   "metadata": {},
   "outputs": [
    {
     "data": {
      "text/plain": [
       "1891"
      ]
     },
     "execution_count": 60,
     "metadata": {},
     "output_type": "execute_result"
    }
   ],
   "source": [
    "# iterate over files in ham folder\n",
    "plaintext_ham = []\n",
    "for filename in os.listdir(corpus_ham_path):\n",
    "    with open(os.path.join(corpus_ham_path, filename), \"r\") as f:\n",
    "        try:\n",
    "            email = f.read()\n",
    "            if is_plaintext(email):\n",
    "                plaintext_ham.append((filename, email))\n",
    "        except:\n",
    "            continue\n",
    "len(plaintext_ham)"
   ]
  },
  {
   "cell_type": "code",
   "execution_count": 61,
   "metadata": {},
   "outputs": [],
   "source": [
    "CLEAN_HEADER = \"\"\"Subject: {subject}\n",
    "Message-ID: <GTUBE1.1010101@example.net>\n",
    "Date: Wed, 23 Jul 2003 23:30:00 +0200\n",
    "From: Sender <sender@example.net>\n",
    "To: Recipient <recipient@example.net>\n",
    "MIME-Version: 1.0\n",
    "Content-Type: text/plain; charset=us-ascii\n",
    "Content-Transfer-Encoding: 7bit\"\"\"\n",
    "\n",
    "def replace_header(email):\n",
    "    spl = email.split(\"\\n\\n\", 1)\n",
    "    header = spl[0].strip()\n",
    "    body = spl[1].strip()\n",
    "\n",
    "    subj = re.match(r'(.|\\n)*subject:(.*)', header, flags = re.IGNORECASE).group(2).strip()\n",
    "    return CLEAN_HEADER.format(subject=subj) + \"\\n\\n\" + body"
   ]
  },
  {
   "cell_type": "code",
   "execution_count": 62,
   "metadata": {},
   "outputs": [],
   "source": [
    "cleaned_spam = [replace_header(email) for fn, email in plaintext_spam]\n",
    "cleaned_ham = [replace_header(email) for fn, email in plaintext_ham]"
   ]
  },
  {
   "cell_type": "code",
   "execution_count": null,
   "metadata": {},
   "outputs": [],
   "source": []
  }
 ],
 "metadata": {
  "kernelspec": {
   "display_name": "base",
   "language": "python",
   "name": "python3"
  },
  "language_info": {
   "codemirror_mode": {
    "name": "ipython",
    "version": 3
   },
   "file_extension": ".py",
   "mimetype": "text/x-python",
   "name": "python",
   "nbconvert_exporter": "python",
   "pygments_lexer": "ipython3",
   "version": "3.10.8"
  }
 },
 "nbformat": 4,
 "nbformat_minor": 2
}
