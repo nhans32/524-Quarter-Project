{
 "cells": [
  {
   "cell_type": "code",
   "execution_count": 89,
   "metadata": {},
   "outputs": [
    {
     "name": "stdout",
     "output_type": "stream",
     "text": [
      "The autoreload extension is already loaded. To reload it, use:\n",
      "  %reload_ext autoreload\n"
     ]
    }
   ],
   "source": [
    "\"\"\"\n",
    "Shows SpamAssassin Python Wrapper at work.\n",
    "\n",
    "https://pypi.org/project/spamassassin-client/\n",
    "\n",
    "\n",
    "- SETUP: -\n",
    "1) Have spamasassin installed\n",
    "    > sudo apt get spamassassin\n",
    "2) > pip install spamassassin_client\n",
    "3) Start spamassassin server\n",
    "    > sudo spamd\n",
    "4) Use spamassassin_client\n",
    "\n",
    "- NOTE: -\n",
    "REMEMBER TO SHUT DOWN SPAMD SERVER WHEN DONE\n",
    "\n",
    "\"\"\"\n",
    "import os\n",
    "from spamassassin_client import SpamAssassin\n",
    "import pandas as pd\n",
    "import numpy as np\n",
    "import util\n",
    "import re\n",
    "import os\n",
    "\n",
    "%load_ext autoreload\n",
    "%autoreload 2"
   ]
  },
  {
   "cell_type": "code",
   "execution_count": 90,
   "metadata": {},
   "outputs": [],
   "source": [
    "# only get plain text emails from corpus\n",
    "corpus_spam_path = \"data/spam_assassin_corpus/spam_2\"\n",
    "corpus_ham_path = \"data/spam_assassin_corpus/easy_ham\""
   ]
  },
  {
   "cell_type": "code",
   "execution_count": 91,
   "metadata": {},
   "outputs": [],
   "source": [
    "def is_plaintext(email):\n",
    "    header = email.split(\"\\n\\n\", 1)[0].strip()\n",
    "    if \"content-type: text/plain\" in header.lower():\n",
    "        return True\n",
    "    return False"
   ]
  },
  {
   "cell_type": "code",
   "execution_count": 92,
   "metadata": {},
   "outputs": [
    {
     "data": {
      "text/plain": [
       "347"
      ]
     },
     "execution_count": 92,
     "metadata": {},
     "output_type": "execute_result"
    }
   ],
   "source": [
    "# iterate over files in spam folder\n",
    "plaintext_spam = []\n",
    "for filename in os.listdir(corpus_spam_path):\n",
    "    with open(os.path.join(corpus_spam_path, filename), \"r\") as f:\n",
    "        try:\n",
    "            email = f.read()\n",
    "            if is_plaintext(email):\n",
    "                plaintext_spam.append((filename, email))\n",
    "        except:\n",
    "            continue\n",
    "len(plaintext_spam)"
   ]
  },
  {
   "cell_type": "code",
   "execution_count": 93,
   "metadata": {},
   "outputs": [
    {
     "data": {
      "text/plain": [
       "1891"
      ]
     },
     "execution_count": 93,
     "metadata": {},
     "output_type": "execute_result"
    }
   ],
   "source": [
    "# iterate over files in ham folder\n",
    "plaintext_ham = []\n",
    "for filename in os.listdir(corpus_ham_path):\n",
    "    with open(os.path.join(corpus_ham_path, filename), \"r\") as f:\n",
    "        try:\n",
    "            email = f.read()\n",
    "            if is_plaintext(email):\n",
    "                plaintext_ham.append((filename, email))\n",
    "        except:\n",
    "            continue\n",
    "len(plaintext_ham)"
   ]
  },
  {
   "cell_type": "code",
   "execution_count": 94,
   "metadata": {},
   "outputs": [],
   "source": [
    "CLEAN_HEADER = \"\"\"Subject: {subject}\n",
    "Message-ID: <GTUBE1.1010101@example.net>\n",
    "Date: Wed, 23 Jul 2003 23:30:00 +0200\n",
    "From: Sender <sender@example.net>\n",
    "To: Recipient <recipient@example.net>\n",
    "MIME-Version: 1.0\n",
    "Content-Type: text/plain; charset=us-ascii\n",
    "Content-Transfer-Encoding: 7bit\"\"\"\n",
    "\n",
    "def replace_header(email):\n",
    "    spl = email.split(\"\\n\\n\", 1)\n",
    "    header = spl[0].strip()\n",
    "    body = spl[1].strip()\n",
    "\n",
    "    subj = re.match(r'(.|\\n)*subject:(.*)', header, flags = re.IGNORECASE).group(2).strip()\n",
    "    return CLEAN_HEADER.format(subject=subj) + \"\\n\\n\" + body"
   ]
  },
  {
   "cell_type": "code",
   "execution_count": 98,
   "metadata": {},
   "outputs": [
    {
     "name": "stdout",
     "output_type": "stream",
     "text": [
      "100\n",
      "100\n"
     ]
    }
   ],
   "source": [
    "cleaned_spam = [replace_header(email) for fn, email in plaintext_spam]\n",
    "cleaned_ham = [replace_header(email) for fn, email in plaintext_ham]\n",
    "\n",
    "minLen = min(min(len(cleaned_spam), len(cleaned_ham)), 100)\n",
    "cleaned_spam = cleaned_spam[:minLen]\n",
    "cleaned_ham = cleaned_ham[:minLen]\n",
    "print(len(cleaned_spam))\n",
    "print(len(cleaned_ham))"
   ]
  },
  {
   "cell_type": "code",
   "execution_count": 112,
   "metadata": {},
   "outputs": [
    {
     "name": "stdout",
     "output_type": "stream",
     "text": [
      "[1, 1, 1, 1, 1, 1, 1, 1, 1, 1, 1, 1, 1, 1, 1, 1, 1, 1, 1, 1, 1, 1, 1, 1, 1, 1, 1, 1, 1, 1, 1, 1, 1, 1, 1, 1, 1, 1, 1, 1, 1, 1, 1, 1, 1, 1, 1, 1, 1, 1, 1, 1, 1, 1, 1, 1, 1, 1, 1, 1, 1, 1, 1, 1, 1, 1, 1, 1, 1, 1, 1, 1, 1, 1, 1, 1, 1, 1, 1, 1, 1, 1, 1, 1, 1, 1, 1, 1, 1, 1, 1, 1, 1, 1, 1, 1, 1, 1, 1, 1]\n"
     ]
    }
   ],
   "source": [
    "spam_labels = [1 for _ in cleaned_spam]\n",
    "ham_labels = [0 for _ in cleaned_ham]\n",
    "\n",
    "emails = cleaned_spam + cleaned_ham\n",
    "labels = spam_labels + ham_labels\n",
    "\n",
    "input = zip(emails, labels)\n",
    "# randomly shuffle\n",
    "input = np.array(list(input))\n",
    "np.random.shuffle(input)\n",
    "len(input)"
   ]
  },
  {
   "cell_type": "code",
   "execution_count": 116,
   "metadata": {},
   "outputs": [
    {
     "name": "stdout",
     "output_type": "stream",
     "text": [
      "1/200\n",
      "2/200\n",
      "3/200\n",
      "4/200\n",
      "5/200\n",
      "6/200\n",
      "7/200\n",
      "8/200\n",
      "9/200\n",
      "10/200\n",
      "11/200\n",
      "12/200\n",
      "13/200\n",
      "14/200\n",
      "15/200\n",
      "16/200\n",
      "17/200\n",
      "18/200\n",
      "19/200\n",
      "20/200\n",
      "21/200\n",
      "22/200\n",
      "23/200\n",
      "24/200\n",
      "25/200\n",
      "26/200\n",
      "27/200\n",
      "28/200\n",
      "29/200\n",
      "30/200\n",
      "31/200\n",
      "32/200\n",
      "33/200\n",
      "34/200\n",
      "35/200\n",
      "36/200\n",
      "37/200\n",
      "38/200\n",
      "39/200\n",
      "40/200\n",
      "41/200\n",
      "42/200\n",
      "43/200\n",
      "44/200\n",
      "45/200\n",
      "46/200\n",
      "47/200\n",
      "48/200\n",
      "49/200\n",
      "50/200\n",
      "51/200\n",
      "52/200\n",
      "53/200\n",
      "54/200\n",
      "55/200\n",
      "56/200\n",
      "57/200\n",
      "58/200\n",
      "59/200\n",
      "60/200\n",
      "61/200\n",
      "62/200\n",
      "63/200\n",
      "64/200\n",
      "65/200\n",
      "66/200\n",
      "67/200\n",
      "68/200\n",
      "69/200\n",
      "70/200\n",
      "71/200\n",
      "72/200\n",
      "73/200\n",
      "74/200\n",
      "75/200\n",
      "76/200\n",
      "77/200\n",
      "78/200\n",
      "79/200\n",
      "80/200\n",
      "81/200\n",
      "82/200\n",
      "83/200\n",
      "84/200\n",
      "85/200\n",
      "86/200\n",
      "87/200\n",
      "88/200\n",
      "89/200\n",
      "90/200\n",
      "91/200\n",
      "92/200\n",
      "93/200\n",
      "94/200\n",
      "95/200\n",
      "96/200\n",
      "97/200\n",
      "98/200\n",
      "99/200\n",
      "100/200\n",
      "101/200\n",
      "102/200\n",
      "103/200\n",
      "104/200\n",
      "105/200\n",
      "106/200\n",
      "107/200\n",
      "108/200\n",
      "109/200\n",
      "110/200\n",
      "111/200\n",
      "112/200\n",
      "113/200\n",
      "114/200\n",
      "115/200\n",
      "116/200\n",
      "117/200\n",
      "118/200\n",
      "119/200\n",
      "120/200\n",
      "121/200\n",
      "122/200\n",
      "123/200\n",
      "124/200\n",
      "125/200\n",
      "126/200\n",
      "127/200\n",
      "128/200\n",
      "129/200\n",
      "130/200\n",
      "131/200\n",
      "132/200\n",
      "133/200\n",
      "134/200\n",
      "135/200\n",
      "136/200\n",
      "137/200\n",
      "138/200\n",
      "139/200\n",
      "140/200\n",
      "141/200\n",
      "142/200\n",
      "143/200\n",
      "144/200\n",
      "145/200\n",
      "146/200\n",
      "147/200\n",
      "148/200\n",
      "149/200\n",
      "150/200\n",
      "151/200\n",
      "152/200\n",
      "153/200\n",
      "154/200\n",
      "155/200\n",
      "156/200\n",
      "157/200\n",
      "158/200\n",
      "159/200\n",
      "160/200\n",
      "161/200\n",
      "162/200\n",
      "163/200\n",
      "164/200\n",
      "165/200\n",
      "166/200\n",
      "167/200\n",
      "168/200\n",
      "169/200\n",
      "170/200\n",
      "171/200\n",
      "172/200\n",
      "173/200\n",
      "174/200\n",
      "175/200\n",
      "176/200\n",
      "177/200\n",
      "178/200\n",
      "179/200\n",
      "180/200\n",
      "181/200\n",
      "182/200\n",
      "183/200\n",
      "184/200\n",
      "185/200\n",
      "186/200\n",
      "187/200\n",
      "188/200\n",
      "189/200\n",
      "190/200\n",
      "191/200\n",
      "192/200\n",
      "193/200\n",
      "194/200\n",
      "195/200\n",
      "196/200\n",
      "197/200\n",
      "198/200\n",
      "199/200\n",
      "200/200\n"
     ]
    }
   ],
   "source": [
    "preds = []\n",
    "acts = []\n",
    "for i, (t, act) in enumerate(input):\n",
    "    sa = SpamAssassin(bytes(t, encoding=\"utf-8\"))\n",
    "    pred = 1 if sa.is_spam() else 0 \n",
    "\n",
    "    preds.append(pred)\n",
    "    acts.append(int(act))\n",
    "\n",
    "    print(f'{i+1}/{len(input)}')"
   ]
  },
  {
   "cell_type": "code",
   "execution_count": 117,
   "metadata": {},
   "outputs": [
    {
     "name": "stdout",
     "output_type": "stream",
     "text": [
      "              precision    recall  f1-score   support\n",
      "\n",
      "           0       0.56      1.00      0.72       100\n",
      "           1       1.00      0.22      0.36       100\n",
      "\n",
      "    accuracy                           0.61       200\n",
      "   macro avg       0.78      0.61      0.54       200\n",
      "weighted avg       0.78      0.61      0.54       200\n",
      "\n"
     ]
    }
   ],
   "source": [
    "from sklearn import metrics\n",
    "print(metrics.classification_report(acts, preds))"
   ]
  }
 ],
 "metadata": {
  "kernelspec": {
   "display_name": "base",
   "language": "python",
   "name": "python3"
  },
  "language_info": {
   "codemirror_mode": {
    "name": "ipython",
    "version": 3
   },
   "file_extension": ".py",
   "mimetype": "text/x-python",
   "name": "python",
   "nbconvert_exporter": "python",
   "pygments_lexer": "ipython3",
   "version": "3.10.8"
  }
 },
 "nbformat": 4,
 "nbformat_minor": 2
}
