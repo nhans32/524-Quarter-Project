{
 "cells": [
  {
   "cell_type": "code",
   "execution_count": 3,
   "metadata": {},
   "outputs": [],
   "source": [
    "\"\"\"\n",
    "Shows SpamAssassin Python Wrapper at work.\n",
    "\n",
    "https://pypi.org/project/spamassassin-client/\n",
    "\n",
    "\n",
    "- SETUP: -\n",
    "1) Have spamasassin installed\n",
    "    > sudo apt get spamassassin\n",
    "2) > pip install spamassassin_client\n",
    "3) Start spamassassin server\n",
    "    > sudo spamd\n",
    "4) Use spamassassin_client\n",
    "\n",
    "- NOTE: -\n",
    "REMEMBER TO SHUT DOWN SPAMD SERVER WHEN DONE\n",
    "\n",
    "\"\"\"\n",
    "import os\n",
    "from spamassassin_client import SpamAssassin\n"
   ]
  },
  {
   "cell_type": "code",
   "execution_count": 4,
   "metadata": {},
   "outputs": [
    {
     "name": "stdout",
     "output_type": "stream",
     "text": [
      "File: data/sample-spam.txt\n",
      "DETECTED SPAM: 1000.0\n",
      "Spam detection software, running on the system \"Nicks-MBP-8.lan\",\n",
      "has identified this incoming email as possible spam.  The original\n",
      "message has been attached to this so you can view it or label\n",
      "similar future email.  If you have any questions, see\n",
      "the administrator of that system for details.\n",
      "\n",
      "Content preview:  This is the GTUBE, the Generic Test for Unsolicited Bulk Email\n",
      "If your spam filter supports it, the GTUBE provides a test by which you can\n",
      "verify that the filter is installed correctly and is detecting incoming spam.\n",
      "You can send yourself a test mail containing t [...]\n",
      "\n",
      "Content analysis details:   (1000.0 points, 5.0 required)\n",
      "\n",
      "pts rule name              description\n",
      "---- ---------------------- --------------------------------------------------\n",
      "-0.0 NO_RECEIVED            Informational: message has no Received headers\n",
      "-0.0 NO_RELAYS              Informational: message was not relayed via SMTP\n",
      "1000 GTUBE                  BODY: Generic Test for Unsolicited Bulk Email\n",
      "-0.0 T_SCC_BODY_TEXT_LINE   No description available.\n",
      "----\n",
      "File: data/sample-nonspam.txt\n",
      "NOT SPAM: 1.0\n",
      "Spam detection software, running on the system \"Nicks-MBP-8.lan\",\n",
      "has NOT identified this incoming email as spam.  The original\n",
      "message has been attached to this so you can view it or label\n",
      "similar future email.  If you have any questions, see\n",
      "the administrator of that system for details.\n",
      "\n",
      "Content preview:  -----BEGIN PGP SIGNED MESSAGE----- TBTF ping for 2001-04-20:\n",
      "Reviving T a s t y B i t s f r o m t h e T e c h n o l o g y F r o n t\n",
      "\n",
      "Content analysis details:   (1.0 points, 5.0 required)\n",
      "\n",
      "pts rule name              description\n",
      "---- ---------------------- --------------------------------------------------\n",
      "0.0 SPF_HELO_NONE          SPF: HELO does not publish an SPF Record\n",
      "1.0 SPF_SOFTFAIL           SPF: sender does not match SPF record (softfail)\n",
      "-0.0 T_SCC_BODY_TEXT_LINE   No description available.\n",
      "----\n"
     ]
    }
   ],
   "source": [
    "ex_spam = 'data/sample-spam.txt'\n",
    "ex_ham = 'data/sample-nonspam.txt'\n",
    "files = [ex_spam, ex_ham]\n",
    "\n",
    "for fp in files:\n",
    "    with open(fp, 'rb') as f: # need to read bytes\n",
    "        print(f\"File: {fp}\")\n",
    "        assassin = SpamAssassin(f.read())\n",
    "        spam_score = assassin.get_score()\n",
    "        if assassin.is_spam():\n",
    "            print(f\"DETECTED SPAM: {spam_score}\")\n",
    "            print(assassin.get_fulltext())\n",
    "        else:\n",
    "            print(f\"NOT SPAM: {spam_score}\")\n",
    "            print(assassin.get_fulltext())\n",
    "    print(\"----\")"
   ]
  }
 ],
 "metadata": {
  "kernelspec": {
   "display_name": "base",
   "language": "python",
   "name": "python3"
  },
  "language_info": {
   "codemirror_mode": {
    "name": "ipython",
    "version": 3
   },
   "file_extension": ".py",
   "mimetype": "text/x-python",
   "name": "python",
   "nbconvert_exporter": "python",
   "pygments_lexer": "ipython3",
   "version": "3.10.8"
  }
 },
 "nbformat": 4,
 "nbformat_minor": 2
}
