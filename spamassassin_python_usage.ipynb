{
 "cells": [
  {
   "cell_type": "code",
   "execution_count": 17,
   "metadata": {},
   "outputs": [],
   "source": [
    "\"\"\"\n",
    "Shows SpamAssassin Python Wrapper at work.\n",
    "\n",
    "https://pypi.org/project/spamassassin-client/\n",
    "\n",
    "\n",
    "- SETUP: -\n",
    "1) Have spamasassin installed\n",
    "    > sudo apt get spamassassin\n",
    "2) > pip install spamassassin_client\n",
    "3) Start spamassassin server\n",
    "    > sudo spamd\n",
    "4) Use spamassassin_client\n",
    "\n",
    "- NOTE: -\n",
    "REMEMBER TO SHUT DOWN SPAMD SERVER WHEN DONE\n",
    "\n",
    "\"\"\"\n",
    "import os\n",
    "from spamassassin_client import SpamAssassin\n",
    "import pandas as pd\n",
    "import numpy as np"
   ]
  },
  {
   "cell_type": "markdown",
   "metadata": {},
   "source": [
    "### Forming any text into valid email including headers and signatures\n",
    "This is so we can ignore pesky SpamAssassin header and signature rules"
   ]
  },
  {
   "cell_type": "code",
   "execution_count": 18,
   "metadata": {},
   "outputs": [
    {
     "data": {
      "text/plain": [
       "{'content-transfer-encoding:',\n",
       " 'content-type:',\n",
       " 'date:',\n",
       " 'from:',\n",
       " 'message-id:',\n",
       " 'mime-version:',\n",
       " 'precedence:',\n",
       " 'subject:',\n",
       " 'to:'}"
      ]
     },
     "execution_count": 18,
     "metadata": {},
     "output_type": "execute_result"
    }
   ],
   "source": [
    "# NOTE: Want to prepend this to any text to test that does not already have a header.\n",
    "#           This will be the case for any text outside of the spam_assassin_corpus\n",
    "#           This is from the sample-spam.txt file -> does not have any header issues\n",
    "HAM_HEADER = \"\"\"Subject: Example header\n",
    "Message-ID: <GTUBE1.1010101@example.net>\n",
    "Date: Wed, 23 Jul 2003 23:30:00 +0200\n",
    "From: Sender <sender@example.net>\n",
    "To: Recipient <recipient@example.net>\n",
    "Precedence: junk\n",
    "MIME-Version: 1.0\n",
    "Content-Type: text/plain; charset=us-ascii\n",
    "Content-Transfer-Encoding: 7bit\n",
    "\"\"\"\n",
    "\n",
    "header_lines = HAM_HEADER.split('\\n')\n",
    "REQ_HEADERS = {(line.split(':')[0]+':').lower() for line in header_lines if line != ''}\n",
    "REQ_HEADERS"
   ]
  },
  {
   "cell_type": "code",
   "execution_count": 19,
   "metadata": {},
   "outputs": [],
   "source": [
    "def add_header(text):\n",
    "    # NOTE: only tested on data/spam_ham_dataset.csv\n",
    "    txt_lines = text.split('\\n')\n",
    "    header_lines = HAM_HEADER.split('\\n')\n",
    "    "
   ]
  },
  {
   "cell_type": "code",
   "execution_count": 20,
   "metadata": {},
   "outputs": [],
   "source": [
    "spam_ham_df = pd.read_csv('data/spam_ham_dataset.csv')\n",
    "spam = spam_ham_df[spam_ham_df['label'] == 'spam']\n",
    "ham = spam_ham_df[spam_ham_df['label'] == 'ham']\n",
    "\n",
    "spam_sample = spam.iloc[0]\n",
    "ham_sample = ham.iloc[0]\n",
    "\n",
    "# NOTE: looking at the format of the data.\n",
    "#   We can see we have subject lines. Need to fit our header into there\n",
    "# print(\"----SPAM----\")\n",
    "# print(spam_sample['text'])\n",
    "# print(\"----HAM----\")\n",
    "# print(ham_sample['text'])"
   ]
  },
  {
   "cell_type": "code",
   "execution_count": 21,
   "metadata": {},
   "outputs": [
    {
     "name": "stdout",
     "output_type": "stream",
     "text": [
      "None\n"
     ]
    }
   ],
   "source": [
    "print(add_header(ham_sample['text']))"
   ]
  }
 ],
 "metadata": {
  "kernelspec": {
   "display_name": "base",
   "language": "python",
   "name": "python3"
  },
  "language_info": {
   "codemirror_mode": {
    "name": "ipython",
    "version": 3
   },
   "file_extension": ".py",
   "mimetype": "text/x-python",
   "name": "python",
   "nbconvert_exporter": "python",
   "pygments_lexer": "ipython3",
   "version": "3.10.8"
  }
 },
 "nbformat": 4,
 "nbformat_minor": 2
}
