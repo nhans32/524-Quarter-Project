{
 "cells": [
  {
   "cell_type": "code",
   "execution_count": 134,
   "metadata": {},
   "outputs": [],
   "source": [
    "\"\"\"\n",
    "Shows SpamAssassin Python Wrapper at work.\n",
    "\n",
    "https://pypi.org/project/spamassassin-client/\n",
    "\n",
    "\n",
    "- SETUP: -\n",
    "1) Have spamasassin installed\n",
    "    > sudo apt get spamassassin\n",
    "2) > pip install spamassassin_client\n",
    "3) Start spamassassin server\n",
    "    > sudo spamd\n",
    "4) Use spamassassin_client\n",
    "\n",
    "- NOTE: -\n",
    "REMEMBER TO SHUT DOWN SPAMD SERVER WHEN DONE\n",
    "\n",
    "\"\"\"\n",
    "import os\n",
    "from spamassassin_client import SpamAssassin\n",
    "import pandas as pd\n",
    "import numpy as np"
   ]
  },
  {
   "cell_type": "markdown",
   "metadata": {},
   "source": [
    "### Forming any text into valid email including headers and signatures\n",
    "This is so we can ignore pesky SpamAssassin header and signature rules"
   ]
  },
  {
   "cell_type": "code",
   "execution_count": 135,
   "metadata": {},
   "outputs": [
    {
     "data": {
      "text/plain": [
       "{'content-transfer-encoding:',\n",
       " 'content-type:',\n",
       " 'date:',\n",
       " 'from:',\n",
       " 'message-id:',\n",
       " 'mime-version:',\n",
       " 'precedence:',\n",
       " 'subject:',\n",
       " 'to:'}"
      ]
     },
     "execution_count": 135,
     "metadata": {},
     "output_type": "execute_result"
    }
   ],
   "source": [
    "# NOTE: Want to prepend this to any text to test that does not already have a header.\n",
    "#           This will be the case for any text outside of the spam_assassin_corpus\n",
    "#           This is from the sample-spam.txt file -> does not have any header issues\n",
    "HAM_HEADER = \"\"\"Subject: Example header\n",
    "Message-ID: <GTUBE1.1010101@example.net>\n",
    "Date: Wed, 23 Jul 2003 23:30:00 +0200\n",
    "From: Sender <sender@example.net>\n",
    "To: Recipient <recipient@example.net>\n",
    "Precedence: junk\n",
    "MIME-Version: 1.0\n",
    "Content-Type: text/plain; charset=us-ascii\n",
    "Content-Transfer-Encoding: 7bit\n",
    "\"\"\"\n",
    "\n",
    "header_lines = HAM_HEADER.split('\\n')\n",
    "REQ_HEADERS = {(line.split(':')[0]+':').lower() for line in header_lines if line != ''}\n",
    "REQ_HEADERS"
   ]
  },
  {
   "cell_type": "code",
   "execution_count": 136,
   "metadata": {},
   "outputs": [],
   "source": [
    "def add_header(text):\n",
    "    # NOTE: only tested on data/spam_ham_dataset.csv\n",
    "    txt_lines = text.split('\\n')\n",
    "    header_lines = HAM_HEADER.split('\\n')\n",
    "    "
   ]
  },
  {
   "cell_type": "code",
   "execution_count": 137,
   "metadata": {},
   "outputs": [],
   "source": [
    "spam_ham_df = pd.read_csv('data/spam_ham_dataset.csv')\n",
    "spam = spam_ham_df[spam_ham_df['label'] == 'spam']\n",
    "ham = spam_ham_df[spam_ham_df['label'] == 'ham']\n",
    "\n",
    "spam_sample = spam.iloc[0]\n",
    "ham_sample = ham.iloc[0]\n",
    "\n",
    "# NOTE: looking at the format of the data.\n",
    "#   We can see we have subject lines. Need to fit our header into there\n",
    "# print(\"----SPAM----\")\n",
    "# print(spam_sample['text'])\n",
    "# print(\"----HAM----\")\n",
    "# print(ham_sample['text'])"
   ]
  },
  {
   "cell_type": "code",
   "execution_count": 138,
   "metadata": {},
   "outputs": [
    {
     "name": "stdout",
     "output_type": "stream",
     "text": [
      "None\n"
     ]
    }
   ],
   "source": [
    "print(add_header(ham_sample['text']))"
   ]
  },
  {
   "cell_type": "code",
   "execution_count": 139,
   "metadata": {},
   "outputs": [
    {
     "name": "stdout",
     "output_type": "stream",
     "text": [
      "8.4\n",
      "Spam detection software, running on the system \"Nicks-MacBook-Pro-8.local\",\n",
      "has identified this incoming email as possible spam.  The original\n",
      "message has been attached to this so you can view it or label\n",
      "similar future email.  If you have any questions, see\n",
      "the administrator of that system for details.\n",
      "\n",
      "Content preview:  DEAR FRIEND,I AM MRS. SESE-SEKO WIDOW OF LATE PRESIDENT MOBUTU\n",
      "SESE-SEKO OF ZAIRE? NOW KNOWN AS DEMOCRATIC REPUBLIC OF CONGO (DRC). I AM\n",
      "MOVED TO WRITE YOU THIS LETTER, THIS WAS IN CONFIDENCE CONSIDER [...]\n",
      "\n",
      "Content analysis details:   (8.4 points, 5.0 required)\n",
      "\n",
      "pts rule name              description\n",
      "---- ---------------------- --------------------------------------------------\n",
      "-0.0 NO_RECEIVED            Informational: message has no Received headers\n",
      "0.5 SUBJ_ALL_CAPS          Subject is all capitals\n",
      "-0.0 NO_RELAYS              Informational: message was not relayed via SMTP\n",
      "2.6 DEAR_FRIEND            BODY: Dear Friend? That's not very dear!\n",
      "1.5 NA_DOLLARS             BODY: Talks about a million North American dollars\n",
      "0.0 MILLION_USD            BODY: Talks about millions of dollars\n",
      "-0.0 T_SCC_BODY_TEXT_LINE   No description available.\n",
      "0.0 LOTS_OF_MONEY          Huge... sums of money\n",
      "1.2 UPPERCASE_75_100       message body is 75-100% uppercase\n",
      "0.0 MONEY_FRAUD_8          Lots of money and very many fraud phrases\n",
      "2.6 ADVANCE_FEE_4_NEW_MONEY Advance Fee fraud and lots of money\n"
     ]
    }
   ],
   "source": [
    "with open(\"data/spam_working_with.txt\", 'rb') as f:\n",
    "    assassin = SpamAssassin(f.read())\n",
    "    print(assassin.get_score())\n",
    "    print(assassin.get_fulltext())"
   ]
  }
 ],
 "metadata": {
  "kernelspec": {
   "display_name": "base",
   "language": "python",
   "name": "python3"
  },
  "language_info": {
   "codemirror_mode": {
    "name": "ipython",
    "version": 3
   },
   "file_extension": ".py",
   "mimetype": "text/x-python",
   "name": "python",
   "nbconvert_exporter": "python",
   "pygments_lexer": "ipython3",
   "version": "3.10.8"
  }
 },
 "nbformat": 4,
 "nbformat_minor": 2
}
