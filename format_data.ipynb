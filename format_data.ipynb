{
 "cells": [
  {
   "cell_type": "code",
   "execution_count": 125,
   "metadata": {},
   "outputs": [
    {
     "name": "stdout",
     "output_type": "stream",
     "text": [
      "The autoreload extension is already loaded. To reload it, use:\n",
      "  %reload_ext autoreload\n"
     ]
    }
   ],
   "source": [
    "import os\n",
    "import pandas as pd\n",
    "import re\n",
    "\n",
    "%load_ext autoreload\n",
    "%autoreload 2"
   ]
  },
  {
   "cell_type": "code",
   "execution_count": 126,
   "metadata": {},
   "outputs": [],
   "source": [
    "CLEAN_HEADER = \"\"\"Subject: {subject}\n",
    "Message-ID: <GTUBE1.1010101@example.net>\n",
    "Date: Wed, 23 Jul 2003 23:30:00 +0200\n",
    "From: Sender <sender@example.net>\n",
    "To: Recipient <recipient@example.net>\n",
    "MIME-Version: 1.0\n",
    "Content-Type: text/plain; charset=us-ascii\n",
    "Content-Transfer-Encoding: 7bit\"\"\""
   ]
  },
  {
   "cell_type": "markdown",
   "metadata": {},
   "source": [
    "**CLEANING CSV DATA**\n",
    "\n",
    "Adding generic unproblematic headers and filling in subject, etc."
   ]
  },
  {
   "cell_type": "code",
   "execution_count": 127,
   "metadata": {},
   "outputs": [
    {
     "name": "stdout",
     "output_type": "stream",
     "text": [
      "Index(['Unnamed: 0.1', 'Unnamed: 0', 'Body', 'Label'], dtype='object')\n",
      "Index(['Unnamed: 0', 'Body', 'Label'], dtype='object')\n"
     ]
    }
   ],
   "source": [
    "enron = pd.read_csv('data/csvs/enronSpamHam.csv') \n",
    "ling = pd.read_csv('data/csvs/lingSpamHam.csv')\n",
    "\n",
    "print(enron.columns)\n",
    "print(ling.columns)\n",
    "\n",
    "# only want to keep body and label columns\n",
    "enron = enron[['Body', 'Label']].rename(columns={'Body': 'text', 'Label': 'label'})\n",
    "ling = ling[['Body', 'Label']].rename(columns={'Body': 'text', 'Label': 'label'})"
   ]
  },
  {
   "cell_type": "code",
   "execution_count": 128,
   "metadata": {},
   "outputs": [],
   "source": [
    "enron_text = enron['text']\n",
    "enron_labels = enron['label']\n",
    "\n",
    "ling_text = ling['text']\n",
    "ling_labels = ling['label']"
   ]
  },
  {
   "cell_type": "code",
   "execution_count": 129,
   "metadata": {},
   "outputs": [],
   "source": [
    "def extract_subj_body_csv(text):\n",
    "    spl = text.split('\\n', 1)\n",
    "    subj = re.match(r'^subject:(.*)$', spl[0], re.IGNORECASE)\n",
    "    if subj is None:\n",
    "        subj = \"Placeholder Subject\"\n",
    "    else:\n",
    "        subj = subj.group(1).strip()\n",
    "    body = spl[1].strip()\n",
    "    return subj, body"
   ]
  },
  {
   "cell_type": "code",
   "execution_count": 130,
   "metadata": {},
   "outputs": [],
   "source": [
    "def add_header_csv(text):\n",
    "    subj, body = extract_subj_body_csv(text)\n",
    "    return CLEAN_HEADER.format(subject=subj) + '\\n\\n' + body"
   ]
  },
  {
   "cell_type": "code",
   "execution_count": 131,
   "metadata": {},
   "outputs": [],
   "source": [
    "enron_formatted = enron_text.apply(add_header_csv)\n",
    "ling_formatted = ling_text.apply(add_header_csv)"
   ]
  },
  {
   "cell_type": "code",
   "execution_count": 132,
   "metadata": {},
   "outputs": [],
   "source": [
    "new_enron_formatted = pd.DataFrame({'text': enron_formatted, 'label': enron_labels})\n",
    "new_ling_formatted = pd.DataFrame({'text': ling_formatted, 'label': ling_labels})\n",
    "\n",
    "new_enron_unformatted = pd.DataFrame({'text': enron_text, 'label': enron_labels})\n",
    "new_ling_unformatted = pd.DataFrame({'text': ling_text, 'label': ling_labels})"
   ]
  },
  {
   "cell_type": "code",
   "execution_count": 133,
   "metadata": {},
   "outputs": [],
   "source": [
    "new_enron_formatted.to_csv('data/formattedData/enronFormatted.csv', index=False)\n",
    "new_ling_formatted.to_csv('data/formattedData/lingFormatted.csv', index=False)\n",
    "\n",
    "new_enron_unformatted.to_csv('data/unformattedData/enronUnformatted.csv', index=False)\n",
    "new_ling_unformatted.to_csv('data/unformattedData/lingUnformatted.csv', index=False)"
   ]
  },
  {
   "cell_type": "markdown",
   "metadata": {},
   "source": [
    "**CLEANING SPAMASSASSIN CORPUS DATA**\n",
    "\n",
    "Replacing headers with generic unproblematic headers and filling in subject, etc."
   ]
  },
  {
   "cell_type": "code",
   "execution_count": 134,
   "metadata": {},
   "outputs": [
    {
     "name": "stdout",
     "output_type": "stream",
     "text": [
      "347 1891\n"
     ]
    }
   ],
   "source": [
    "corpus_spam_path = \"data/spam_assassin_corpus/spam_2\"\n",
    "corpus_ham_path = \"data/spam_assassin_corpus/easy_ham\"\n",
    "\n",
    "def is_plaintext(text):\n",
    "    header = text.split(\"\\n\\n\", 1)[0].strip()\n",
    "    if \"content-type: text/plain\" in header.lower():\n",
    "        return True\n",
    "    return False\n",
    "\n",
    "def get_plaintext_corpus(path):\n",
    "    plaintext_emails = []\n",
    "    for fn in os.listdir(path):\n",
    "        with open(os.path.join(path, fn)) as f:\n",
    "            try:\n",
    "                text = f.read()\n",
    "                if is_plaintext(text):\n",
    "                    plaintext_emails.append(text)\n",
    "            except:\n",
    "                continue\n",
    "    return plaintext_emails\n",
    "\n",
    "spam_corpus_text = get_plaintext_corpus(corpus_spam_path)\n",
    "spam_corpus_labels = [1 for _ in spam_corpus_text]\n",
    "\n",
    "ham_corpus_text = get_plaintext_corpus(corpus_ham_path)\n",
    "ham_corpus_labels = [0 for _ in ham_corpus_text]\n",
    "\n",
    "print(len(spam_corpus_text), len(ham_corpus_text))"
   ]
  },
  {
   "cell_type": "code",
   "execution_count": 135,
   "metadata": {},
   "outputs": [],
   "source": [
    "def replace_header_corpus(email):\n",
    "    spl = email.split(\"\\n\\n\", 1)\n",
    "    header = spl[0].strip()\n",
    "    body = spl[1].strip()\n",
    "\n",
    "    subj = re.match(r'(.|\\n)*subject:(.*)', header, flags = re.IGNORECASE).group(2).strip()\n",
    "    return CLEAN_HEADER.format(subject=subj) + \"\\n\\n\" + body"
   ]
  },
  {
   "cell_type": "code",
   "execution_count": 136,
   "metadata": {},
   "outputs": [],
   "source": [
    "spam_corpus_text_formatted = [replace_header_corpus(email) for email in spam_corpus_text]\n",
    "ham_corpus_text_formatted = [replace_header_corpus(email) for email in ham_corpus_text]"
   ]
  },
  {
   "cell_type": "code",
   "execution_count": 137,
   "metadata": {},
   "outputs": [],
   "source": [
    "corpus_text_formatted = spam_corpus_text_formatted + ham_corpus_text_formatted\n",
    "corpus_labels = spam_corpus_labels + ham_corpus_labels\n",
    "\n",
    "new_corpus_formatted = pd.DataFrame({'text': corpus_text_formatted, 'label': corpus_labels})\n",
    "new_corpus_formatted.to_csv('data/formattedData/SAcorpusFormatted.csv', index=False)"
   ]
  },
  {
   "cell_type": "code",
   "execution_count": 138,
   "metadata": {},
   "outputs": [],
   "source": [
    "corpus_text_unformatted = spam_corpus_text + ham_corpus_text\n",
    "new_corpus_unformatted = pd.DataFrame({'text': corpus_text_unformatted, 'label': corpus_labels})\n",
    "new_corpus_unformatted.to_csv('data/unformattedData/SAcorpusUnformatted.csv', index=False)\n"
   ]
  }
 ],
 "metadata": {
  "kernelspec": {
   "display_name": "base",
   "language": "python",
   "name": "python3"
  },
  "language_info": {
   "codemirror_mode": {
    "name": "ipython",
    "version": 3
   },
   "file_extension": ".py",
   "mimetype": "text/x-python",
   "name": "python",
   "nbconvert_exporter": "python",
   "pygments_lexer": "ipython3",
   "version": "3.10.8"
  }
 },
 "nbformat": 4,
 "nbformat_minor": 2
}
